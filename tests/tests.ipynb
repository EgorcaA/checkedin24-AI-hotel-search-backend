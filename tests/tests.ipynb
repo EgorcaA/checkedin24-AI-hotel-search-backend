{
 "cells": [
  {
   "cell_type": "code",
   "execution_count": 7,
   "metadata": {},
   "outputs": [
    {
     "name": "stdout",
     "output_type": "stream",
     "text": [
      "/home/egorcaa/учеба/tumai_all/checkedin24_app/backend/tests\n"
     ]
    }
   ],
   "source": [
    "import pytest\n",
    "import sys\n",
    "from pathlib import Path\n",
    "\n",
    "# Add the backend directory to the Python path\n",
    "sys.path.append('../')\n",
    "from app.main import app\n",
    "from fastapi.testclient import TestClient\n",
    "\n",
    "@pytest.fixture\n",
    "def client():\n",
    "    return TestClient(app) "
   ]
  },
  {
   "cell_type": "code",
   "execution_count": 10,
   "metadata": {},
   "outputs": [],
   "source": [
    "client = TestClient(app)\n"
   ]
  },
  {
   "cell_type": "code",
   "execution_count": 11,
   "metadata": {},
   "outputs": [
    {
     "name": "stdout",
     "output_type": "stream",
     "text": [
      "<Response [404 Not Found]>\n"
     ]
    }
   ],
   "source": [
    "\"\"\"Test that the endpoint returns all hotels when no prompt is provided\"\"\"\n",
    "# response = client.get(\"/hotels\")\n",
    "prompt = \"I want a hotel with wifi and breakfast under $200\"\n",
    "response = client.get(\"/hotels?prompt=\"+prompt)\n",
    "    \n",
    "print(response)\n",
    "    "
   ]
  },
  {
   "cell_type": "code",
   "execution_count": null,
   "metadata": {},
   "outputs": [],
   "source": []
  }
 ],
 "metadata": {
  "kernelspec": {
   "display_name": "hotel_api",
   "language": "python",
   "name": "python3"
  },
  "language_info": {
   "codemirror_mode": {
    "name": "ipython",
    "version": 3
   },
   "file_extension": ".py",
   "mimetype": "text/x-python",
   "name": "python",
   "nbconvert_exporter": "python",
   "pygments_lexer": "ipython3",
   "version": "3.9.21"
  }
 },
 "nbformat": 4,
 "nbformat_minor": 2
}
